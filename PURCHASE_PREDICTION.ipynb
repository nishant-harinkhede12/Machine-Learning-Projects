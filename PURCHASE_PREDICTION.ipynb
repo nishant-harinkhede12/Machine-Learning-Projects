{
  "nbformat": 4,
  "nbformat_minor": 0,
  "metadata": {
    "colab": {
      "name": "Task.ipynb",
      "provenance": [],
      "authorship_tag": "ABX9TyNsUZtMIlPSJLSP1wgOWe7H",
      "include_colab_link": true
    },
    "kernelspec": {
      "name": "python3",
      "display_name": "Python 3"
    },
    "language_info": {
      "name": "python"
    }
  },
  "cells": [
    {
      "cell_type": "markdown",
      "metadata": {
        "id": "view-in-github",
        "colab_type": "text"
      },
      "source": [
        "<a href=\"https://colab.research.google.com/github/nishant-harinkhede12/Machine-Learning-Projects/blob/main/PURCHASE_PREDICTION.ipynb\" target=\"_parent\"><img src=\"https://colab.research.google.com/assets/colab-badge.svg\" alt=\"Open In Colab\"/></a>"
      ]
    },
    {
      "cell_type": "markdown",
      "metadata": {
        "id": "pTWV84cAoF5P"
      },
      "source": [
        "IN THIS STEP, IMPORTED REQUIRED LIBRARIES AND DATASET."
      ]
    },
    {
      "cell_type": "code",
      "metadata": {
        "colab": {
          "base_uri": "https://localhost:8080/"
        },
        "id": "7BNnU1xtoI3G",
        "outputId": "cd6a6805-6412-47db-f876-f9072a4f4019"
      },
      "source": [
        "url1 = 'https://raw.githubusercontent.com/nishant-harinkhede12/Machine-Learning-Projects/nishant-harinkhede12-External-Task/data.csv'\n",
        "url2 = 'https://raw.githubusercontent.com/nishant-harinkhede12/Machine-Learning-Projects/nishant-harinkhede12-External-Task/data.json'\n",
        "\n",
        "import pandas as pd\n",
        "import numpy as np\n",
        "import seaborn as sns\n",
        "import matplotlib.pyplot as plt\n",
        "from datetime import datetime as dt\n",
        "\n",
        "data1 = pd.read_csv(url1)\n",
        "data2 = pd.read_json(url2)\n",
        "\n",
        "print(len(data1))\n",
        "print(len(data2))\n"
      ],
      "execution_count": 1,
      "outputs": [
        {
          "output_type": "stream",
          "name": "stdout",
          "text": [
            "156\n",
            "181\n"
          ]
        }
      ]
    },
    {
      "cell_type": "markdown",
      "metadata": {
        "id": "A_FdkIn_KQLC"
      },
      "source": [
        "IN THIS STEP BOTHE THE DATASET ARE COMPARED."
      ]
    },
    {
      "cell_type": "code",
      "metadata": {
        "colab": {
          "base_uri": "https://localhost:8080/"
        },
        "id": "aU3DRLaiprRj",
        "outputId": "8f69ab90-d6ab-4bea-a3d2-dac52968612c"
      },
      "source": [
        "print(data1.info())\n",
        "print(data2.info())"
      ],
      "execution_count": 2,
      "outputs": [
        {
          "output_type": "stream",
          "name": "stdout",
          "text": [
            "<class 'pandas.core.frame.DataFrame'>\n",
            "RangeIndex: 156 entries, 0 to 155\n",
            "Data columns (total 8 columns):\n",
            " #   Column         Non-Null Count  Dtype \n",
            "---  ------         --------------  ----- \n",
            " 0   _id            156 non-null    object\n",
            " 1   guid           156 non-null    object\n",
            " 2   purchase       156 non-null    bool  \n",
            " 3   age            156 non-null    int64 \n",
            " 4   gender         156 non-null    object\n",
            " 5   experience_id  156 non-null    int64 \n",
            " 6   variant_id     156 non-null    int64 \n",
            " 7   event_date     156 non-null    object\n",
            "dtypes: bool(1), int64(3), object(4)\n",
            "memory usage: 8.8+ KB\n",
            "None\n",
            "<class 'pandas.core.frame.DataFrame'>\n",
            "RangeIndex: 181 entries, 0 to 180\n",
            "Data columns (total 8 columns):\n",
            " #   Column         Non-Null Count  Dtype \n",
            "---  ------         --------------  ----- \n",
            " 0   _id            181 non-null    object\n",
            " 1   guid           181 non-null    object\n",
            " 2   purchase       181 non-null    bool  \n",
            " 3   age            181 non-null    int64 \n",
            " 4   gender         181 non-null    object\n",
            " 5   experience_id  181 non-null    int64 \n",
            " 6   variant_id     181 non-null    int64 \n",
            " 7   event_date     181 non-null    object\n",
            "dtypes: bool(1), int64(3), object(4)\n",
            "memory usage: 10.2+ KB\n",
            "None\n"
          ]
        }
      ]
    },
    {
      "cell_type": "markdown",
      "metadata": {
        "id": "jm01cBAgqTO8"
      },
      "source": [
        "AS BOTH THE DATASET ARE HAVING COMMON FEATURES, CAN BE CONCATINATED."
      ]
    },
    {
      "cell_type": "code",
      "metadata": {
        "colab": {
          "base_uri": "https://localhost:8080/"
        },
        "id": "Gu-d4IpcpmBl",
        "outputId": "d08af467-b341-4a3c-f21d-dbc43fcd881c"
      },
      "source": [
        "d = [data1,data2]\n",
        "data = pd.concat(d)\n",
        "# TO CHECK ALL RECORDS ARE CONCATINATED FROM TWO DATASETS\n",
        "print(len(data))"
      ],
      "execution_count": 3,
      "outputs": [
        {
          "output_type": "stream",
          "name": "stdout",
          "text": [
            "337\n"
          ]
        }
      ]
    },
    {
      "cell_type": "markdown",
      "metadata": {
        "id": "ccGCiVvvuc_3"
      },
      "source": [
        "TO CHECK NULL HANDLING"
      ]
    },
    {
      "cell_type": "code",
      "metadata": {
        "colab": {
          "base_uri": "https://localhost:8080/"
        },
        "id": "lb-20iUQuh04",
        "outputId": "b49ff7d8-1870-4e0b-bc5b-314346d0b7ba"
      },
      "source": [
        "# WE CAN CONCLUDE THERE IS NO NULL VALUES IN DATASET\n",
        "# Data IS BACKUP OF ORIGINAL DATASET\n",
        "Data = data.copy()\n",
        "data.isnull().sum()"
      ],
      "execution_count": 4,
      "outputs": [
        {
          "output_type": "execute_result",
          "data": {
            "text/plain": [
              "_id              0\n",
              "guid             0\n",
              "purchase         0\n",
              "age              0\n",
              "gender           0\n",
              "experience_id    0\n",
              "variant_id       0\n",
              "event_date       0\n",
              "dtype: int64"
            ]
          },
          "metadata": {},
          "execution_count": 4
        }
      ]
    },
    {
      "cell_type": "markdown",
      "metadata": {
        "id": "dM6xzMKCul4s"
      },
      "source": [
        "AS WE HAVE DATE COLUMN IN DATASET, WE MUST CONVERT IT INTO DATETIME FORMAT.\n",
        "NOTE: ACCURACY OF MODEL WILL BE TESTED WITH AND WITHOUT EVENT DATE FEATURE, IN BELOW CODE THIS FEATURE IS CONSIDERED TO TRAIN THE MODEL."
      ]
    },
    {
      "cell_type": "code",
      "metadata": {
        "id": "nNTCiNgjv8i7"
      },
      "source": [
        "\n",
        "data['event_date']=pd.to_datetime(data['event_date'],errors='coerce',format='%Y-%m-%d',utc=True)\n",
        "\n",
        "data['event_year'] = data['event_date'].dt.year\n",
        "data['event_month'] = data['event_date'].dt.month\n",
        "data['event_day'] = data['event_date'].dt.day\n",
        "data['event_hour'] = data['event_date'].dt.hour\n",
        "data['event_minute'] = data['event_date'].dt.minute\n",
        "data['event_second'] = data['event_date'].dt.second\n",
        "data['event_dayofweek'] = data['event_date'].dt.dayofweek\n",
        "\n"
      ],
      "execution_count": 5,
      "outputs": []
    },
    {
      "cell_type": "markdown",
      "metadata": {
        "id": "ONBx9Eh_wjp5"
      },
      "source": [
        "EXPLORATORY DATA ANALYSIS [EDA]"
      ]
    },
    {
      "cell_type": "code",
      "metadata": {
        "colab": {
          "base_uri": "https://localhost:8080/",
          "height": 406
        },
        "id": "0ed0Xg73wyDf",
        "outputId": "7932221f-e148-4940-b3ed-e29dcc3d1af1"
      },
      "source": [
        "# BELOW GRAPHICAL REPRESENTATION IS GIVING COUNT OF CUSTOMERS WITH THEIR EXPERIENCE\n",
        "plt.figure(figsize=(12,6))\n",
        "sns.histplot(data['experience_id'],color = 'blue', label = 'experience id')"
      ],
      "execution_count": 6,
      "outputs": [
        {
          "output_type": "execute_result",
          "data": {
            "text/plain": [
              "<matplotlib.axes._subplots.AxesSubplot at 0x7fe2b3b4fed0>"
            ]
          },
          "metadata": {},
          "execution_count": 6
        },
        {
          "output_type": "display_data",
          "data": {
            "image/png": "[encoded data removed]",
            "text/plain": [
              "<Figure size 864x432 with 1 Axes>"
            ]
          },
          "metadata": {
            "needs_background": "light"
          }
        }
      ]
    },
    {
      "cell_type": "code",
      "metadata": {
        "colab": {
          "base_uri": "https://localhost:8080/",
          "height": 422
        },
        "id": "UECFjNW3xO9z",
        "outputId": "f79b324a-f7a1-4b89-f564-0cf41cf8eb31"
      },
      "source": [
        "# BELOW GRAPHICAL REPRESENTATION IS GIVING COUNT OF PURCHASE FROM CUSTOMERS.\n",
        "# THE DATASET IS ~ BALANCED\n",
        "plt.figure(figsize=(12,6))\n",
        "sns.histplot(data['purchase'],color = 'green', label = 'PURCHASE')\n",
        "plt.legend()\n",
        "plt.show()"
      ],
      "execution_count": 7,
      "outputs": [
        {
          "output_type": "stream",
          "name": "stderr",
          "text": [
            "<string>:6: RuntimeWarning: Converting input from bool to <class 'numpy.uint8'> for compatibility.\n",
            "<string>:6: RuntimeWarning: Converting input from bool to <class 'numpy.uint8'> for compatibility.\n"
          ]
        },
        {
          "output_type": "display_data",
          "data": {
            "image/png": "[encoded data removed]",
            "text/plain": [
              "<Figure size 864x432 with 1 Axes>"
            ]
          },
          "metadata": {
            "needs_background": "light"
          }
        }
      ]
    },
    {
      "cell_type": "code",
      "metadata": {
        "colab": {
          "base_uri": "https://localhost:8080/",
          "height": 404
        },
        "id": "ilDiywm5xoCd",
        "outputId": "cf5a8a1a-1d9b-4c52-ee14-c3d3ccf407d4"
      },
      "source": [
        "# BELOW GRAPHICAL REPRESENTATION IS GIVING INSIGHT AS CUSTOMERS WITH EXPERIENCE ID = 3&4 ARE PURCHASING THE PRODUCT\n",
        "plt.figure(figsize=(12,6))\n",
        "plt.hist(data[data['purchase']==True]['experience_id'],bins=30,alpha=0.5,color='blue', label='Purchased')\n",
        "plt.hist(data[data['purchase']==False]['experience_id'],bins=30,alpha=0.5,color='green', label='Not Purchased')\n",
        "plt.legend()\n",
        "plt.xlabel('Purchase')\n",
        "plt.title('Purchase/Not Purchased with experience')\n",
        "plt.show()\n"
      ],
      "execution_count": 8,
      "outputs": [
        {
          "output_type": "display_data",
          "data": {
            "image/png": "[encoded data removed]",
            "text/plain": [
              "<Figure size 864x432 with 1 Axes>"
            ]
          },
          "metadata": {
            "needs_background": "light"
          }
        }
      ]
    },
    {
      "cell_type": "code",
      "metadata": {
        "colab": {
          "base_uri": "https://localhost:8080/",
          "height": 295
        },
        "id": "Ltg_xQqLxwRR",
        "outputId": "d12cff06-b915-42ef-e400-b67e0b240fab"
      },
      "source": [
        "# BELOW BOX PLOT IS GIVING INSIGHT AS CUSTOMERS WITH EXPERIENCE ID BETWEEN 3 AND 5 ARE PURCHASING THE PRODUCT\n",
        "sns.boxplot(x=data['purchase'],y=data['experience_id'])\n",
        "plt.title('Purchase/Not Purchased with experience')\n",
        "plt.show()\n"
      ],
      "execution_count": 9,
      "outputs": [
        {
          "output_type": "display_data",
          "data": {
            "image/png": "[encoded data removed]",
            "text/plain": [
              "<Figure size 432x288 with 1 Axes>"
            ]
          },
          "metadata": {
            "needs_background": "light"
          }
        }
      ]
    },
    {
      "cell_type": "code",
      "metadata": {
        "colab": {
          "base_uri": "https://localhost:8080/",
          "height": 324
        },
        "id": "-o1-K0og3Khw",
        "outputId": "aa1c836d-50ca-4c19-d15c-5362f308bb5c"
      },
      "source": [
        "# BELOW PIE CHART IS GIVING INSIGHT AS COUNT OF CUSTOMERS WITH DIFFERENT EXPERIENCE ID\n",
        "a = data[\"experience_id\"].value_counts()\n",
        "index = a.index\n",
        "sources = a.values\n",
        "custom_colors = [\"skyblue\", \"yellow\", 'tomato', \"blue\", \"red\",'green']\n",
        "plt.figure(figsize=(5, 5))\n",
        "plt.pie(sources, labels=index, colors=custom_colors)\n",
        "central_circle = plt.Circle((0, 0), 0.5, color='white')\n",
        "fig = plt.gcf()\n",
        "fig.gca().add_artist(central_circle)\n",
        "plt.rc('font', size=12)\n",
        "plt.title(\"COUNT OF EXPERIENCED CUSTOMER\", fontsize=20)\n",
        "plt.show()"
      ],
      "execution_count": 10,
      "outputs": [
        {
          "output_type": "display_data",
          "data": {
            "image/png": "[encoded data removed]",
            "text/plain": [
              "<Figure size 360x360 with 1 Axes>"
            ]
          },
          "metadata": {}
        }
      ]
    },
    {
      "cell_type": "markdown",
      "metadata": {
        "id": "3NePFf594Bft"
      },
      "source": [
        "\"FEATURE SELECTION\": AS PER THE OBSERVATION FROM DATASET\n",
        "(1) '_id' AND 'guid' COLUMNS OF DATASET ARE REPRESENTING UNIQUE CUSTOMER INFORMATION\n",
        "(2) 'gender' COLUMN IS HAVING UNIQUE VALUE AS FEMALE\n",
        "\n",
        "WE CAN CONCLUDE THAT GENDER AS A FEATURE CAN BE IGNORED AND ONE OF THE CUSTOMER REPRESENATATION BETWEEN '_id' AND 'guid' CAN BE CONSIDERED"
      ]
    },
    {
      "cell_type": "code",
      "metadata": {
        "colab": {
          "base_uri": "https://localhost:8080/"
        },
        "id": "dUwkbi8a4Evv",
        "outputId": "697bf6e4-d064-4b04-c2bf-11722b27bff8"
      },
      "source": [
        "\n",
        "print('count of id',data['_id'].value_counts())\n",
        "print('count of guid',data['guid'].value_counts())\n",
        "print('count of gender',data['gender'].value_counts())\n"
      ],
      "execution_count": 11,
      "outputs": [
        {
          "output_type": "stream",
          "name": "stdout",
          "text": [
            "count of id 61532e0a9a12d95c190c0705    1\n",
            "61532e0a9f2836473bf537ca    1\n",
            "61532e0a219467e0fe8111a4    1\n",
            "61532e0ae5089cc082d2e3ad    1\n",
            "61532dd3c72ad88a022ddcbb    1\n",
            "                           ..\n",
            "61532e0a8861537a0e8d135a    1\n",
            "61532dd3e78e9151fedc822a    1\n",
            "61532e0ad33e03ceba1506d0    1\n",
            "61532e0ab7772bf72b76e88c    1\n",
            "61532e0a5227fdc639501730    1\n",
            "Name: _id, Length: 337, dtype: int64\n",
            "count of guid 5dfcd542-72f2-4d59-8d33-69aee086c12a    1\n",
            "10a0bd47-0f59-4217-bbe3-b5e41c29a02c    1\n",
            "488d402c-eca4-4c0e-8212-f7976084a7b0    1\n",
            "7315d08e-ffd7-445b-947f-2da0b8bfb875    1\n",
            "432fa3da-e428-4caf-a6fe-e9f88184e9da    1\n",
            "                                       ..\n",
            "2850bdc1-9fe4-480a-bece-169ecfefcc05    1\n",
            "86154d67-c32d-4d15-9282-49e99bfe6fd1    1\n",
            "979f453e-aa56-449e-97e9-639b3ac823be    1\n",
            "d61ddac3-c9fd-4e19-9645-48ac3e5d9519    1\n",
            "5eaecd43-f734-424e-96ad-d5830e98f8df    1\n",
            "Name: guid, Length: 337, dtype: int64\n",
            "count of gender female    337\n",
            "Name: gender, dtype: int64\n"
          ]
        }
      ]
    },
    {
      "cell_type": "markdown",
      "metadata": {
        "id": "cGYO7V5Y6J-P"
      },
      "source": [
        "THIS DATASET IS CONSIDERED FOR THE CLASSIFICATION PROBLEM WHERE BASED ON THE AVAILABLE INFORMATION, CUSTOMER WILL \"PRUCHASE/NOT PURCHASE THE PRODUCT\" TO BE PREDICTED.\n",
        "\n",
        "DEFINING INDEPENDENT AND TARGET VARIABLE"
      ]
    },
    {
      "cell_type": "code",
      "metadata": {
        "id": "35SnWZS26lT_"
      },
      "source": [
        "x = data.drop(['gender','guid','purchase','event_date'],axis=1).values\n",
        "y = data['purchase'].values\n"
      ],
      "execution_count": 12,
      "outputs": []
    },
    {
      "cell_type": "markdown",
      "metadata": {
        "id": "3cEkje0Q7BLA"
      },
      "source": [
        "DATA PREPROCESSING AND FEATURE SCALING"
      ]
    },
    {
      "cell_type": "code",
      "metadata": {
        "colab": {
          "base_uri": "https://localhost:8080/"
        },
        "id": "3pmdpIPH6xR7",
        "outputId": "fbddd6db-e0e2-432f-9077-910e61feddf3"
      },
      "source": [
        "from sklearn.preprocessing import LabelEncoder\n",
        "LE=LabelEncoder()\n",
        "\n",
        "LE.fit_transform(x[:,0])\n",
        "x[:,0]= LE.fit_transform(x[:,0])\n",
        "\n",
        "LE.fit_transform(x[:,1])\n",
        "x[:,1]= LE.fit_transform(x[:,1])\n",
        "\n",
        "LE.fit_transform(y)\n",
        "y= LE.fit_transform(y)\n",
        "\n",
        "#\n",
        "from sklearn.model_selection import train_test_split\n",
        "X_train, X_test, y_train,y_test = train_test_split(x,y,test_size=0.2,random_state=0)\n",
        "\n",
        "from sklearn.preprocessing import StandardScaler\n",
        "sc = StandardScaler()\n",
        "sc.fit(X_train)\n",
        "sc.transform(X_test)\n"
      ],
      "execution_count": 13,
      "outputs": [
        {
          "output_type": "execute_result",
          "data": {
            "text/plain": [
              "array([[ 0.37526518,  1.32546059,  1.22754288,  0.37910353, -0.87072954,\n",
              "         1.36510601, -1.20301916, -0.64362383,  1.52397467,  1.00461979,\n",
              "        -1.53831488],\n",
              "       [ 0.82695012,  0.32062574,  0.65525686,  0.37910353, -0.87072954,\n",
              "         0.11074729,  0.2973225 ,  1.45316453, -1.00657586, -0.86032892,\n",
              "         0.02518652],\n",
              "       [-1.33693589, -1.52157148,  0.08297084, -0.99898904, -0.87072954,\n",
              "         1.99228538,  1.79766416, -1.8417886 ,  0.06187881, -0.62721033,\n",
              "         0.02518652],\n",
              "       [-1.49450041, -0.18179168,  0.08297084, -0.99898904,  1.14846224,\n",
              "        -0.2028424 ,  1.56684236, -0.64362383, -0.9503414 ,  0.36354367,\n",
              "         1.06752078],\n",
              "       [-1.32643159, -1.01915405, -0.48931519,  0.37910353, -0.87072954,\n",
              "         1.67869569,  1.45143147, -1.54224741, -0.38799684,  0.88806049,\n",
              "         1.06752078],\n",
              "       [-0.04490686, -0.51673663,  0.08297084,  0.37910353,  1.14846224,\n",
              "        -0.51643208, -0.97219737, -0.94316502,  1.13033347,  0.13042508,\n",
              "        -0.49598062],\n",
              "       [ 1.37317378,  0.48809822,  1.22754288, -0.99898904, -0.87072954,\n",
              "        -0.83002176,  0.52814429,  1.15362333, -0.89410695, -0.74376962,\n",
              "         0.54635365],\n",
              "       [-0.68566923,  0.32062574, -1.63388723,  0.37910353,  1.14846224,\n",
              "        -1.14361144,  0.75896608, -0.34408264,  1.41150575,  1.41257732,\n",
              "        -1.53831488],\n",
              "       [ 0.84795872,  0.48809822,  0.65525686,  0.37910353,  1.14846224,\n",
              "         0.42433697,  1.79766416,  1.15362333,  0.90539565, -0.80204927,\n",
              "         1.06752078],\n",
              "       [ 1.14207915, -1.354099  ,  1.22754288,  1.75719611,  1.14846224,\n",
              "         0.11074729,  1.33602057, -0.94316502, -1.40021705,  0.13042508,\n",
              "         1.58868791],\n",
              "       [ 0.66938561,  0.82304316,  1.22754288, -0.99898904,  1.14846224,\n",
              "         0.73792665,  1.68225326, -0.04454144,  1.24280239,  1.06289944,\n",
              "        -1.53831488],\n",
              "       [ 1.22611356,  0.82304316,  1.22754288,  0.37910353,  1.14846224,\n",
              "         0.42433697,  1.45143147, -1.54224741,  0.90539565,  0.24698438,\n",
              "        -0.49598062],\n",
              "       [ 0.83745442, -0.85168158,  1.22754288,  1.75719611,  1.14846224,\n",
              "         1.05151633, -1.43384096, -1.24270622, -0.21929347,  1.64569591,\n",
              "         0.54635365],\n",
              "       [-1.56803051,  0.99051564,  0.08297084, -0.99898904, -0.87072954,\n",
              "         1.99228538,  0.2973225 ,  0.55454095, -0.4442313 , -0.1026935 ,\n",
              "         0.54635365],\n",
              "       [ 1.79334582, -0.51673663,  1.22754288,  0.37910353,  1.14846224,\n",
              "        -0.51643208, -1.43384096,  1.15362333,  1.52397467, -1.67624397,\n",
              "         1.06752078],\n",
              "       [ 0.54333399,  0.82304316,  0.65525686,  0.37910353, -0.87072954,\n",
              "        -0.2028424 , -0.51055378,  0.25499975, -1.68138933,  0.01386579,\n",
              "        -1.53831488],\n",
              "       [ 0.38576948, -1.18662653,  1.22754288,  1.75719611,  1.14846224,\n",
              "        -0.83002176,  0.64355519, -1.24270622,  0.84916119,  1.52913661,\n",
              "         1.58868791],\n",
              "       [-1.24239718, -1.52157148, -1.06160121,  0.37910353, -0.87072954,\n",
              "        -0.51643208, -0.62596468, -0.64362383,  0.39928554, -0.04441386,\n",
              "         0.54635365],\n",
              "       [-0.97978965,  0.99051564, -0.48931519, -0.99898904,  1.14846224,\n",
              "         0.42433697, -0.39514289, -1.54224741,  0.23058218, -1.2100068 ,\n",
              "        -1.53831488],\n",
              "       [ 1.34166087,  1.66040554,  0.65525686,  0.37910353, -0.87072954,\n",
              "         1.36510601,  0.98978788, -0.04454144,  0.62422337,  1.17945873,\n",
              "         1.06752078],\n",
              "       [-1.4734918 , -0.34926416, -0.48931519, -0.99898904, -0.87072954,\n",
              "         1.36510601, -0.51055378,  1.45316453, -1.62515488, -0.39409174,\n",
              "         1.58868791],\n",
              "       [-1.53651761, -0.85168158, -1.63388723, -0.99898904, -0.87072954,\n",
              "         0.73792665, -1.31843006, -1.24270622, -0.16305902, -0.51065103,\n",
              "        -1.01714775],\n",
              "       [-1.13735417, -0.01431921, -0.48931519,  0.37910353, -0.87072954,\n",
              "         0.42433697,  1.33602057,  0.85408214, -1.56892042,  0.59666226,\n",
              "        -1.53831488],\n",
              "       [-1.54702191,  1.49293306, -1.06160121,  0.37910353, -0.87072954,\n",
              "         1.67869569, -0.39514289, -1.24270622,  0.56798891,  0.36354367,\n",
              "         0.02518652],\n",
              "       [-1.410466  , -0.34926416, -0.48931519,  0.37910353,  1.14846224,\n",
              "         1.05151633,  0.41273339, -0.94316502,  0.90539565,  0.94634014,\n",
              "         1.58868791],\n",
              "       [-0.3810445 ,  1.66040554,  0.08297084,  0.37910353,  1.14846224,\n",
              "         0.11074729,  1.33602057, -0.34408264, -0.10682456,  1.7622552 ,\n",
              "         1.58868791],\n",
              "       [-1.02180686,  0.82304316, -1.63388723,  0.37910353, -0.87072954,\n",
              "        -0.51643208, -0.85678647, -0.94316502,  0.28681663, -1.2100068 ,\n",
              "        -0.49598062],\n",
              "       [ 1.48872109, -1.01915405,  0.65525686, -0.99898904,  1.14846224,\n",
              "         0.11074729, -0.85678647,  1.15362333,  0.28681663, -0.68548997,\n",
              "        -1.01714775],\n",
              "       [ 0.11265765,  0.32062574, -1.63388723, -0.99898904, -0.87072954,\n",
              "        -0.51643208,  1.45143147, -0.04454144,  0.23058218,  0.30526402,\n",
              "        -1.01714775],\n",
              "       [-1.17937137,  0.32062574, -0.48931519, -0.99898904,  1.14846224,\n",
              "         1.05151633,  0.0665007 , -1.54224741, -1.17527923, -0.1026935 ,\n",
              "         0.02518652],\n",
              "       [ 0.5958555 ,  0.15315327,  0.65525686,  1.75719611,  1.14846224,\n",
              "        -1.45720112, -0.39514289, -0.04454144,  1.24280239,  1.52913661,\n",
              "        -1.01714775],\n",
              "       [ 1.11056625,  1.66040554,  1.22754288,  0.37910353, -0.87072954,\n",
              "         1.67869569, -1.66466275, -0.34408264,  0.39928554,  1.41257732,\n",
              "         1.58868791],\n",
              "       [ 1.55174689,  0.99051564,  1.22754288,  1.75719611, -0.87072954,\n",
              "         0.73792665,  1.68225326, -1.54224741,  1.3552713 ,  0.71322155,\n",
              "         1.58868791],\n",
              "       [-0.05541116, -0.18179168, -0.48931519, -0.99898904, -0.87072954,\n",
              "         0.73792665,  1.56684236, -1.54224741, -0.4442313 , -0.04441386,\n",
              "         1.06752078],\n",
              "       [-1.00079826,  1.32546059, -1.63388723,  0.37910353,  1.14846224,\n",
              "         0.73792665,  0.2973225 , -0.94316502, -0.10682456,  0.01386579,\n",
              "        -0.49598062],\n",
              "       [-1.64156062, -0.51673663, -1.63388723,  0.37910353, -0.87072954,\n",
              "        -1.45720112, -1.20301916,  0.25499975,  1.07409902,  0.30526402,\n",
              "         1.58868791],\n",
              "       [ 0.31223937,  0.48809822,  0.65525686,  1.75719611, -0.87072954,\n",
              "         0.73792665,  0.52814429, -0.64362383,  0.73669228, -0.04441386,\n",
              "         0.02518652],\n",
              "       [-0.83272944, -0.34926416,  0.08297084, -0.99898904, -0.87072954,\n",
              "         0.11074729, -0.85678647,  0.85408214,  1.58020912,  1.06289944,\n",
              "        -1.53831488],\n",
              "       [ 0.10215335,  1.66040554, -0.48931519,  0.37910353,  1.14846224,\n",
              "        -0.51643208,  0.41273339,  1.15362333, -0.78163804, -1.67624397,\n",
              "        -1.53831488],\n",
              "       [ 0.44879529,  0.48809822,  0.65525686,  0.37910353,  1.14846224,\n",
              "         0.42433697,  0.1819116 , -0.04454144, -1.40021705,  1.64569591,\n",
              "         1.06752078],\n",
              "       [ 0.92148883, -1.354099  ,  0.65525686, -0.99898904,  1.14846224,\n",
              "         0.73792665, -0.85678647, -0.94316502, -1.45645151,  1.70397555,\n",
              "         1.58868791],\n",
              "       [ 1.10006195, -0.34926416,  1.22754288,  1.75719611, -0.87072954,\n",
              "        -1.14361144, -1.43384096, -1.24270622, -0.33176239,  1.70397555,\n",
              "        -1.53831488],\n",
              "       [ 0.5538383 ,  0.32062574,  1.22754288,  0.37910353, -0.87072954,\n",
              "        -1.14361144,  0.1819116 , -1.24270622,  1.3552713 , -1.67624397,\n",
              "        -1.53831488],\n",
              "       [ 0.03912755,  0.65557069, -1.06160121, -0.99898904, -0.87072954,\n",
              "         0.42433697, -1.54925186,  0.55454095,  1.52397467, -1.67624397,\n",
              "         0.02518652],\n",
              "       [ 0.42778668, -0.18179168,  1.22754288,  1.75719611,  1.14846224,\n",
              "         1.05151633, -1.43384096, -0.64362383,  0.96163011, -0.1026935 ,\n",
              "         0.54635365],\n",
              "       [ 1.32065227, -1.52157148,  0.65525686,  1.75719611,  1.14846224,\n",
              "        -1.14361144,  1.33602057, -1.8417886 , -1.56892042, -0.04441386,\n",
              "         1.06752078],\n",
              "       [ 1.75132861, -0.51673663,  1.22754288,  0.37910353, -0.87072954,\n",
              "         0.11074729, -1.43384096, -1.24270622, -0.66916912, -0.56893068,\n",
              "        -0.49598062],\n",
              "       [-1.3894574 ,  0.99051564, -0.48931519,  0.37910353, -0.87072954,\n",
              "        -0.83002176, -0.85678647,  1.15362333,  1.3552713 , -0.86032892,\n",
              "         1.58868791],\n",
              "       [ 1.16308776,  0.32062574,  1.22754288,  0.37910353, -0.87072954,\n",
              "        -0.2028424 ,  1.45143147, -0.04454144, -1.3439826 , -1.67624397,\n",
              "         0.02518652],\n",
              "       [-0.50709611, -1.354099  ,  0.08297084, -0.99898904,  1.14846224,\n",
              "         0.11074729, -0.62596468, -0.64362383, -1.28774814, -0.27753245,\n",
              "         0.02518652],\n",
              "       [ 1.76183291, -0.68420911,  0.65525686,  1.75719611,  1.14846224,\n",
              "         0.42433697, -0.51055378, -0.94316502, -0.05059011,  0.88806049,\n",
              "         1.58868791],\n",
              "       [-1.26340578,  0.82304316, -1.06160121, -0.99898904, -0.87072954,\n",
              "        -0.51643208,  0.1819116 , -0.64362383, -0.9503414 ,  0.59666226,\n",
              "         0.54635365],\n",
              "       [ 1.08955765, -0.18179168,  1.22754288, -0.99898904,  1.14846224,\n",
              "        -1.45720112, -0.27973199, -1.8417886 ,  1.58020912, -0.1026935 ,\n",
              "        -0.49598062],\n",
              "       [-0.47558321, -1.01915405, -0.48931519, -0.99898904, -0.87072954,\n",
              "        -0.51643208, -1.20301916,  1.45316453, -1.06281032,  1.58741626,\n",
              "         1.58868791],\n",
              "       [ 1.33115657,  0.15315327,  0.65525686, -0.99898904, -0.87072954,\n",
              "        -0.2028424 ,  0.98978788,  1.75270572,  1.29903684,  0.30526402,\n",
              "         1.58868791],\n",
              "       [-0.64365202, -1.354099  , -1.63388723, -0.99898904,  1.14846224,\n",
              "        -0.51643208, -0.39514289,  1.15362333,  0.11811326,  0.59666226,\n",
              "        -1.53831488],\n",
              "       [-1.4629875 ,  0.48809822, -0.48931519, -0.99898904, -0.87072954,\n",
              "         0.11074729, -0.04891019, -0.04454144, -0.61293467, -1.26828644,\n",
              "        -1.53831488],\n",
              "       [ 1.23661786,  0.32062574,  0.65525686,  0.37910353,  1.14846224,\n",
              "        -1.45720112, -0.51055378, -1.54224741, -0.89410695,  0.24698438,\n",
              "        -1.53831488],\n",
              "       [ 1.5727555 ,  1.32546059,  0.65525686,  0.37910353, -0.87072954,\n",
              "         1.05151633, -1.31843006,  0.85408214,  1.01786456,  1.70397555,\n",
              "         0.54635365],\n",
              "       [ 0.39627378, -0.68420911,  0.65525686, -0.99898904, -0.87072954,\n",
              "         0.73792665, -0.97219737,  0.25499975,  0.96163011, -0.2192528 ,\n",
              "         0.54635365],\n",
              "       [ 0.12316195, -0.34926416, -1.63388723,  0.37910353, -0.87072954,\n",
              "        -1.14361144, -1.43384096, -1.8417886 , -1.28774814, -0.33581209,\n",
              "        -1.53831488],\n",
              "       [ 1.74082431, -0.68420911,  0.65525686, -0.99898904, -0.87072954,\n",
              "         1.05151633, -0.04891019,  1.75270572, -0.10682456, -1.50140503,\n",
              "        -1.01714775],\n",
              "       [ 1.31014797, -0.34926416,  0.65525686, -0.99898904,  1.14846224,\n",
              "         1.05151633, -0.85678647, -0.34408264,  0.17434772,  1.23773838,\n",
              "        -0.49598062],\n",
              "       [ 1.07905335, -1.18662653,  1.22754288,  0.37910353, -0.87072954,\n",
              "        -0.51643208,  0.41273339, -1.54224741,  0.17434772,  0.59666226,\n",
              "         1.58868791],\n",
              "       [ 0.73241141,  0.82304316,  0.65525686, -0.99898904,  1.14846224,\n",
              "        -0.83002176,  1.56684236, -1.24270622,  1.13033347,  1.06289944,\n",
              "        -1.53831488],\n",
              "       [-0.70667783,  1.66040554, -1.06160121,  0.37910353, -0.87072954,\n",
              "         1.05151633,  0.64355519,  1.75270572, -1.23151368, -0.39409174,\n",
              "        -1.53831488],\n",
              "       [ 1.66729421,  1.15798811,  0.65525686,  0.37910353, -0.87072954,\n",
              "        -1.14361144, -1.20301916,  1.15362333,  0.79292674,  0.71322155,\n",
              "        -0.49598062],\n",
              "       [-0.4125574 , -1.52157148,  0.08297084,  0.37910353,  1.14846224,\n",
              "         0.11074729,  0.75896608,  1.45316453, -1.62515488, -0.1026935 ,\n",
              "        -1.01714775]])"
            ]
          },
          "metadata": {},
          "execution_count": 13
        }
      ]
    },
    {
      "cell_type": "markdown",
      "metadata": {
        "id": "FMTbaeqt7J_S"
      },
      "source": [
        "LOGISTIC REGRESSION MODEL IS GIVING 60% ACCURACY"
      ]
    },
    {
      "cell_type": "code",
      "metadata": {
        "colab": {
          "base_uri": "https://localhost:8080/"
        },
        "id": "uZVK5mAR7aqo",
        "outputId": "133dda85-c57f-4c69-9b05-c9ae623b31f4"
      },
      "source": [
        "from sklearn.linear_model import LogisticRegression\n",
        "\n",
        "reg = LogisticRegression()\n",
        "reg.fit(X_train,y_train)\n",
        "\n",
        "y_pred = reg.predict(X_test)\n",
        "\n",
        "from sklearn.metrics import accuracy_score\n",
        "ac1 = accuracy_score(y_test,y_pred)\n",
        "print(\"accuracy score of LogisticRegression = \",ac1)"
      ],
      "execution_count": 14,
      "outputs": [
        {
          "output_type": "stream",
          "name": "stdout",
          "text": [
            "accuracy score of LogisticRegression =  0.6029411764705882\n"
          ]
        },
        {
          "output_type": "stream",
          "name": "stderr",
          "text": [
            "/usr/local/lib/python3.7/dist-packages/sklearn/linear_model/_logistic.py:764: ConvergenceWarning: lbfgs failed to converge (status=1):\n",
            "STOP: TOTAL NO. of ITERATIONS REACHED LIMIT.\n",
            "\n",
            "Increase the number of iterations (max_iter) or scale the data as shown in:\n",
            "    https://scikit-learn.org/stable/modules/preprocessing.html\n",
            "Please also refer to the documentation for alternative solver options:\n",
            "    https://scikit-learn.org/stable/modules/linear_model.html#logistic-regression\n",
            "  extra_warning_msg=_LOGISTIC_SOLVER_CONVERGENCE_MSG)\n"
          ]
        }
      ]
    },
    {
      "cell_type": "markdown",
      "metadata": {
        "id": "MVnr6RXZ9TO7"
      },
      "source": [
        "RANDOM FOREST MODEL IS GIVING 51% ACCURACY"
      ]
    },
    {
      "cell_type": "code",
      "metadata": {
        "colab": {
          "base_uri": "https://localhost:8080/"
        },
        "id": "AyNoJutD9aQw",
        "outputId": "e1af464a-a010-4930-e3e5-844f3062204d"
      },
      "source": [
        "from sklearn.ensemble import RandomForestClassifier\n",
        "classifier = RandomForestClassifier(n_estimators = 100, random_state = 0)\n",
        "classifier.fit(X_train, y_train)\n",
        "\n",
        "# Predicting the Test set results\n",
        "y_pred = classifier.predict(X_test)\n",
        "\n",
        "from sklearn.metrics import accuracy_score\n",
        "ac2 = accuracy_score(y_test,y_pred)\n",
        "print(\"accuracy score of RandomForestClassifier = \",ac2)"
      ],
      "execution_count": 15,
      "outputs": [
        {
          "output_type": "stream",
          "name": "stdout",
          "text": [
            "accuracy score of RandomForestClassifier =  0.5147058823529411\n"
          ]
        }
      ]
    },
    {
      "cell_type": "markdown",
      "metadata": {
        "id": "tEH_asaL9f4Q"
      },
      "source": [
        "NAIVE BAYS MODEL IS GIVING 58% ACCUARACY"
      ]
    },
    {
      "cell_type": "code",
      "metadata": {
        "colab": {
          "base_uri": "https://localhost:8080/"
        },
        "id": "k_97UnkX9lc8",
        "outputId": "53f2f530-03f7-4a9c-9bb5-8ab762b4f8c0"
      },
      "source": [
        "from sklearn.naive_bayes import GaussianNB\n",
        "classifier = GaussianNB()\n",
        "classifier.fit(X_train, y_train)\n",
        "\n",
        "# Predicting the Test set results\n",
        "y_pred = classifier.predict(X_test)\n",
        "\n",
        "from sklearn.metrics import accuracy_score\n",
        "ac3 = accuracy_score(y_test,y_pred)\n",
        "print(\"accuracy score of naive_bayes = \",ac3)"
      ],
      "execution_count": 16,
      "outputs": [
        {
          "output_type": "stream",
          "name": "stdout",
          "text": [
            "accuracy score of naive_bayes =  0.5882352941176471\n"
          ]
        }
      ]
    },
    {
      "cell_type": "markdown",
      "metadata": {
        "id": "l0D5HVNGMhjg"
      },
      "source": [
        "SUPPORT VECTOR CLASSIFIER IS GIVING 52% ACCURACY"
      ]
    },
    {
      "cell_type": "code",
      "metadata": {
        "colab": {
          "base_uri": "https://localhost:8080/"
        },
        "id": "NBRxZdZRCLph",
        "outputId": "f0d8b774-2ad5-48fd-f8f4-422100717b0a"
      },
      "source": [
        "from sklearn.svm import SVC\n",
        "classifier = SVC(kernel='rbf', random_state=0)\n",
        "classifier.fit(X_train,y_train)\n",
        "\n",
        "y_pred = classifier.predict(X_test)\n",
        "\n",
        "from sklearn.metrics import confusion_matrix\n",
        "cm = confusion_matrix(y_test,y_pred)\n",
        "print(cm)\n",
        "\n",
        "from sklearn.metrics import accuracy_score\n",
        "ac = accuracy_score(y_test,y_pred)\n",
        "print(\"accuracy score of svc = \",ac)"
      ],
      "execution_count": 17,
      "outputs": [
        {
          "output_type": "stream",
          "name": "stdout",
          "text": [
            "[[36  0]\n",
            " [32  0]]\n",
            "accuracy score of svc =  0.5294117647058824\n"
          ]
        }
      ]
    },
    {
      "cell_type": "markdown",
      "metadata": {
        "id": "dnbPc62XMqD_"
      },
      "source": [
        "XGBOOST CLASSIFIER IS GIVING 51% ACCURACY"
      ]
    },
    {
      "cell_type": "code",
      "metadata": {
        "colab": {
          "base_uri": "https://localhost:8080/"
        },
        "id": "KQjUdBbAC1sv",
        "outputId": "c21cb687-8655-45d1-c544-dec69b202e4c"
      },
      "source": [
        "from xgboost import XGBClassifier\n",
        "classifier = XGBClassifier(colsample_bytree = 0.9, learning_rate = 0.1,\n",
        "                max_depth = 5, alpha = 10, n_estimators = 100)\n",
        "classifier.fit(X_train,y_train)\n",
        "\n",
        "y_pred = classifier.predict(X_test)\n",
        "\n",
        "from sklearn.metrics import confusion_matrix\n",
        "cm = confusion_matrix(y_test,y_pred)\n",
        "print(cm)\n",
        "\n",
        "from sklearn.metrics import accuracy_score\n",
        "ac = accuracy_score(y_test,y_pred)\n",
        "print(\"accuracy score of XGBClassifier = \",ac)\n"
      ],
      "execution_count": 18,
      "outputs": [
        {
          "output_type": "stream",
          "name": "stdout",
          "text": [
            "[[18 18]\n",
            " [15 17]]\n",
            "accuracy score of XGBClassifier =  0.5147058823529411\n"
          ]
        }
      ]
    },
    {
      "cell_type": "markdown",
      "metadata": {
        "id": "ELVyJ4-vMwwW"
      },
      "source": [
        "SUMMARY: THE MAXIMUM ACCURACY IS ACHIEVED FROM LOGISTIC REGRESSION MODEL. THERE ARE FEW FEATURES THAT ARE MISSING LIKE CUSTOMER INCOME AND PRICE OF THE PRODUCT, WHICH MAY HELP IN PREDICTING THE BUYING PATTERN OF CUSTOMER WITH HIGHER ACCURACY."
      ]
    },
    {
      "cell_type": "markdown",
      "metadata": {
        "id": "zNYgO8Ozf_cE"
      },
      "source": [
        "BELOW LINE OF CODES ARE EXECUTED WITHOUT EVENT DATE COLUMN TO CHECK THE ACCURACY OF MODEL WITHOUT DATE FEATURE."
      ]
    },
    {
      "cell_type": "code",
      "metadata": {
        "id": "n70NBKdqbojk"
      },
      "source": [
        "Data = Data.drop(['guid','event_date','gender'],axis=1)"
      ],
      "execution_count": 19,
      "outputs": []
    },
    {
      "cell_type": "code",
      "metadata": {
        "colab": {
          "base_uri": "https://localhost:8080/",
          "height": 204
        },
        "id": "P5yV5t79cCxB",
        "outputId": "321c3e44-8a45-4f34-c8ef-d3dea60574bc"
      },
      "source": [
        "Data.head()"
      ],
      "execution_count": 20,
      "outputs": [
        {
          "output_type": "execute_result",
          "data": {
            "text/html": [
              "<div>\n",
              "<style scoped>\n",
              "    .dataframe tbody tr th:only-of-type {\n",
              "        vertical-align: middle;\n",
              "    }\n",
              "\n",
              "    .dataframe tbody tr th {\n",
              "        vertical-align: top;\n",
              "    }\n",
              "\n",
              "    .dataframe thead th {\n",
              "        text-align: right;\n",
              "    }\n",
              "</style>\n",
              "<table border=\"1\" class=\"dataframe\">\n",
              "  <thead>\n",
              "    <tr style=\"text-align: right;\">\n",
              "      <th></th>\n",
              "      <th>_id</th>\n",
              "      <th>purchase</th>\n",
              "      <th>age</th>\n",
              "      <th>experience_id</th>\n",
              "      <th>variant_id</th>\n",
              "    </tr>\n",
              "  </thead>\n",
              "  <tbody>\n",
              "    <tr>\n",
              "      <th>0</th>\n",
              "      <td>61532e0a3dceebb2dcf915b1</td>\n",
              "      <td>True</td>\n",
              "      <td>32</td>\n",
              "      <td>5</td>\n",
              "      <td>2</td>\n",
              "    </tr>\n",
              "    <tr>\n",
              "      <th>1</th>\n",
              "      <td>61532e0a8a22380d4f703166</td>\n",
              "      <td>True</td>\n",
              "      <td>21</td>\n",
              "      <td>5</td>\n",
              "      <td>3</td>\n",
              "    </tr>\n",
              "    <tr>\n",
              "      <th>2</th>\n",
              "      <td>61532e0a47c9a6f60c31e790</td>\n",
              "      <td>True</td>\n",
              "      <td>23</td>\n",
              "      <td>5</td>\n",
              "      <td>2</td>\n",
              "    </tr>\n",
              "    <tr>\n",
              "      <th>3</th>\n",
              "      <td>61532e0a69ff25cd716301e0</td>\n",
              "      <td>False</td>\n",
              "      <td>35</td>\n",
              "      <td>6</td>\n",
              "      <td>1</td>\n",
              "    </tr>\n",
              "    <tr>\n",
              "      <th>4</th>\n",
              "      <td>61532e0a83ab523053498fa4</td>\n",
              "      <td>True</td>\n",
              "      <td>28</td>\n",
              "      <td>6</td>\n",
              "      <td>3</td>\n",
              "    </tr>\n",
              "  </tbody>\n",
              "</table>\n",
              "</div>"
            ],
            "text/plain": [
              "                        _id  purchase  age  experience_id  variant_id\n",
              "0  61532e0a3dceebb2dcf915b1      True   32              5           2\n",
              "1  61532e0a8a22380d4f703166      True   21              5           3\n",
              "2  61532e0a47c9a6f60c31e790      True   23              5           2\n",
              "3  61532e0a69ff25cd716301e0     False   35              6           1\n",
              "4  61532e0a83ab523053498fa4      True   28              6           3"
            ]
          },
          "metadata": {},
          "execution_count": 20
        }
      ]
    },
    {
      "cell_type": "code",
      "metadata": {
        "id": "f9_1raPJcXje"
      },
      "source": [
        "x= Data.drop(['purchase'],axis=1).values\n",
        "y = Data['purchase'].values"
      ],
      "execution_count": 21,
      "outputs": []
    },
    {
      "cell_type": "code",
      "metadata": {
        "colab": {
          "base_uri": "https://localhost:8080/"
        },
        "id": "z4B6PHgIc1f6",
        "outputId": "0f2c0530-1cbc-46f7-9dae-6995e2c702c8"
      },
      "source": [
        "from sklearn.preprocessing import LabelEncoder\n",
        "LE=LabelEncoder()\n",
        "\n",
        "LE.fit_transform(x[:,0])\n",
        "x[:,0]= LE.fit_transform(x[:,0])\n",
        "\n",
        "LE.fit_transform(y)\n",
        "y= LE.fit_transform(y)\n",
        "\n",
        "from sklearn.model_selection import train_test_split\n",
        "X_train, X_test, y_train,y_test = train_test_split(x,y,test_size=0.2,random_state=0)\n",
        "\n",
        "from sklearn.preprocessing import StandardScaler\n",
        "sc = StandardScaler()\n",
        "sc.fit(X_train)\n",
        "sc.transform(X_test)\n"
      ],
      "execution_count": 22,
      "outputs": [
        {
          "output_type": "execute_result",
          "data": {
            "text/plain": [
              "array([[ 0.37526518,  1.32546059,  1.22754288,  0.37910353],\n",
              "       [ 0.82695012,  0.32062574,  0.65525686,  0.37910353],\n",
              "       [-1.33693589, -1.52157148,  0.08297084, -0.99898904],\n",
              "       [-1.49450041, -0.18179168,  0.08297084, -0.99898904],\n",
              "       [-1.32643159, -1.01915405, -0.48931519,  0.37910353],\n",
              "       [-0.04490686, -0.51673663,  0.08297084,  0.37910353],\n",
              "       [ 1.37317378,  0.48809822,  1.22754288, -0.99898904],\n",
              "       [-0.68566923,  0.32062574, -1.63388723,  0.37910353],\n",
              "       [ 0.84795872,  0.48809822,  0.65525686,  0.37910353],\n",
              "       [ 1.14207915, -1.354099  ,  1.22754288,  1.75719611],\n",
              "       [ 0.66938561,  0.82304316,  1.22754288, -0.99898904],\n",
              "       [ 1.22611356,  0.82304316,  1.22754288,  0.37910353],\n",
              "       [ 0.83745442, -0.85168158,  1.22754288,  1.75719611],\n",
              "       [-1.56803051,  0.99051564,  0.08297084, -0.99898904],\n",
              "       [ 1.79334582, -0.51673663,  1.22754288,  0.37910353],\n",
              "       [ 0.54333399,  0.82304316,  0.65525686,  0.37910353],\n",
              "       [ 0.38576948, -1.18662653,  1.22754288,  1.75719611],\n",
              "       [-1.24239718, -1.52157148, -1.06160121,  0.37910353],\n",
              "       [-0.97978965,  0.99051564, -0.48931519, -0.99898904],\n",
              "       [ 1.34166087,  1.66040554,  0.65525686,  0.37910353],\n",
              "       [-1.4734918 , -0.34926416, -0.48931519, -0.99898904],\n",
              "       [-1.53651761, -0.85168158, -1.63388723, -0.99898904],\n",
              "       [-1.13735417, -0.01431921, -0.48931519,  0.37910353],\n",
              "       [-1.54702191,  1.49293306, -1.06160121,  0.37910353],\n",
              "       [-1.410466  , -0.34926416, -0.48931519,  0.37910353],\n",
              "       [-0.3810445 ,  1.66040554,  0.08297084,  0.37910353],\n",
              "       [-1.02180686,  0.82304316, -1.63388723,  0.37910353],\n",
              "       [ 1.48872109, -1.01915405,  0.65525686, -0.99898904],\n",
              "       [ 0.11265765,  0.32062574, -1.63388723, -0.99898904],\n",
              "       [-1.17937137,  0.32062574, -0.48931519, -0.99898904],\n",
              "       [ 0.5958555 ,  0.15315327,  0.65525686,  1.75719611],\n",
              "       [ 1.11056625,  1.66040554,  1.22754288,  0.37910353],\n",
              "       [ 1.55174689,  0.99051564,  1.22754288,  1.75719611],\n",
              "       [-0.05541116, -0.18179168, -0.48931519, -0.99898904],\n",
              "       [-1.00079826,  1.32546059, -1.63388723,  0.37910353],\n",
              "       [-1.64156062, -0.51673663, -1.63388723,  0.37910353],\n",
              "       [ 0.31223937,  0.48809822,  0.65525686,  1.75719611],\n",
              "       [-0.83272944, -0.34926416,  0.08297084, -0.99898904],\n",
              "       [ 0.10215335,  1.66040554, -0.48931519,  0.37910353],\n",
              "       [ 0.44879529,  0.48809822,  0.65525686,  0.37910353],\n",
              "       [ 0.92148883, -1.354099  ,  0.65525686, -0.99898904],\n",
              "       [ 1.10006195, -0.34926416,  1.22754288,  1.75719611],\n",
              "       [ 0.5538383 ,  0.32062574,  1.22754288,  0.37910353],\n",
              "       [ 0.03912755,  0.65557069, -1.06160121, -0.99898904],\n",
              "       [ 0.42778668, -0.18179168,  1.22754288,  1.75719611],\n",
              "       [ 1.32065227, -1.52157148,  0.65525686,  1.75719611],\n",
              "       [ 1.75132861, -0.51673663,  1.22754288,  0.37910353],\n",
              "       [-1.3894574 ,  0.99051564, -0.48931519,  0.37910353],\n",
              "       [ 1.16308776,  0.32062574,  1.22754288,  0.37910353],\n",
              "       [-0.50709611, -1.354099  ,  0.08297084, -0.99898904],\n",
              "       [ 1.76183291, -0.68420911,  0.65525686,  1.75719611],\n",
              "       [-1.26340578,  0.82304316, -1.06160121, -0.99898904],\n",
              "       [ 1.08955765, -0.18179168,  1.22754288, -0.99898904],\n",
              "       [-0.47558321, -1.01915405, -0.48931519, -0.99898904],\n",
              "       [ 1.33115657,  0.15315327,  0.65525686, -0.99898904],\n",
              "       [-0.64365202, -1.354099  , -1.63388723, -0.99898904],\n",
              "       [-1.4629875 ,  0.48809822, -0.48931519, -0.99898904],\n",
              "       [ 1.23661786,  0.32062574,  0.65525686,  0.37910353],\n",
              "       [ 1.5727555 ,  1.32546059,  0.65525686,  0.37910353],\n",
              "       [ 0.39627378, -0.68420911,  0.65525686, -0.99898904],\n",
              "       [ 0.12316195, -0.34926416, -1.63388723,  0.37910353],\n",
              "       [ 1.74082431, -0.68420911,  0.65525686, -0.99898904],\n",
              "       [ 1.31014797, -0.34926416,  0.65525686, -0.99898904],\n",
              "       [ 1.07905335, -1.18662653,  1.22754288,  0.37910353],\n",
              "       [ 0.73241141,  0.82304316,  0.65525686, -0.99898904],\n",
              "       [-0.70667783,  1.66040554, -1.06160121,  0.37910353],\n",
              "       [ 1.66729421,  1.15798811,  0.65525686,  0.37910353],\n",
              "       [-0.4125574 , -1.52157148,  0.08297084,  0.37910353]])"
            ]
          },
          "metadata": {},
          "execution_count": 22
        }
      ]
    },
    {
      "cell_type": "code",
      "metadata": {
        "colab": {
          "base_uri": "https://localhost:8080/"
        },
        "id": "EXcjlia1dFjk",
        "outputId": "c11b4947-7ec9-4dc1-ccb9-93c48faa51f6"
      },
      "source": [
        "from sklearn.linear_model import LogisticRegression\n",
        "\n",
        "reg = LogisticRegression()\n",
        "reg.fit(X_train,y_train)\n",
        "\n",
        "y_pred = reg.predict(X_test)\n",
        "\n",
        "from sklearn.metrics import accuracy_score\n",
        "ac1 = accuracy_score(y_test,y_pred)\n",
        "print(\"accuracy score of LogisticRegression = \",ac1)"
      ],
      "execution_count": 23,
      "outputs": [
        {
          "output_type": "stream",
          "name": "stdout",
          "text": [
            "accuracy score of LogisticRegression =  0.5588235294117647\n"
          ]
        }
      ]
    },
    {
      "cell_type": "markdown",
      "metadata": {
        "id": "KR6UiRbpgU7U"
      },
      "source": [
        "FALL IN ACCURACY OF LOGISTIC REGRESSION MODEL FROM PREVIOUS RUN SUGGEST THAT EVENT DATE FEATURE CANNOT BE IGNORED."
      ]
    }
  ]
}