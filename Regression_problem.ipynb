{
  "nbformat": 4,
  "nbformat_minor": 0,
  "metadata": {
    "colab": {
      "name": "Regression_problem.ipynb",
      "provenance": [],
      "authorship_tag": "ABX9TyPRh6F2ZBd8Bsz3H2ZeFztx",
      "include_colab_link": true
    },
    "kernelspec": {
      "name": "python3",
      "display_name": "Python 3"
    },
    "language_info": {
      "name": "python"
    }
  },
  "cells": [
    {
      "cell_type": "markdown",
      "metadata": {
        "id": "view-in-github",
        "colab_type": "text"
      },
      "source": [
        "<a href=\"https://colab.research.google.com/github/nishant-harinkhede12/Machine-Learning-Projects/blob/main/Regression_problem.ipynb\" target=\"_parent\"><img src=\"https://colab.research.google.com/assets/colab-badge.svg\" alt=\"Open In Colab\"/></a>"
      ]
    },
    {
      "cell_type": "code",
      "metadata": {
        "id": "ZxES_ZElUjjh"
      },
      "source": [
        "url = 'https://raw.githubusercontent.com/nishant-harinkhede12/Machine-Learning-Projects/main/vgsales.csv'\n",
        "import pandas as pd\n",
        "import numpy as np\n",
        "import matplotlib.pyplot as plt\n",
        "import seaborn as sns\n",
        "\n",
        "data = pd.read_csv(url)\n"
      ],
      "execution_count": 92,
      "outputs": []
    },
    {
      "cell_type": "code",
      "metadata": {
        "colab": {
          "base_uri": "https://localhost:8080/"
        },
        "id": "JWJQma4NVVpE",
        "outputId": "be57b007-6dbb-49f3-e2b4-7a0ade1c4af6"
      },
      "source": [
        "print(data.head(10))"
      ],
      "execution_count": 93,
      "outputs": [
        {
          "output_type": "stream",
          "name": "stdout",
          "text": [
            "   Rank             Name Platform  ...  JP_Sales Other_Sales Global_Sales\n",
            "0   259        Asteroids     2600  ...       0.0        0.05         4.31\n",
            "1   545  Missile Command     2600  ...       0.0        0.03         2.76\n",
            "2  1768          Kaboom!     2600  ...       0.0        0.01         1.15\n",
            "3  1971         Defender     2600  ...       0.0        0.01         1.05\n",
            "4  2671           Boxing     2600  ...       0.0        0.01         0.77\n",
            "5  4027       Ice Hockey     2600  ...       0.0        0.01         0.49\n",
            "6  5368          Freeway     2600  ...       0.0        0.00         0.34\n",
            "7  6319           Bridge     2600  ...       0.0        0.00         0.27\n",
            "8  6898         Checkers     2600  ...       0.0        0.00         0.24\n",
            "9   240         Pitfall!     2600  ...       0.0        0.05         4.50\n",
            "\n",
            "[10 rows x 11 columns]\n"
          ]
        }
      ]
    },
    {
      "cell_type": "code",
      "metadata": {
        "colab": {
          "base_uri": "https://localhost:8080/"
        },
        "id": "IEtvjy3EVLfh",
        "outputId": "57e4e390-2872-491a-f27e-8842bf473841"
      },
      "source": [
        "data.isnull().sum()"
      ],
      "execution_count": 62,
      "outputs": [
        {
          "output_type": "execute_result",
          "data": {
            "text/plain": [
              "Rank             0\n",
              "Name             0\n",
              "Platform         0\n",
              "Year             0\n",
              "Genre            0\n",
              "Publisher       36\n",
              "NA_Sales         0\n",
              "EU_Sales         0\n",
              "JP_Sales         0\n",
              "Other_Sales      0\n",
              "Global_Sales     0\n",
              "dtype: int64"
            ]
          },
          "metadata": {},
          "execution_count": 62
        }
      ]
    },
    {
      "cell_type": "code",
      "metadata": {
        "colab": {
          "base_uri": "https://localhost:8080/"
        },
        "id": "sV0ZozVNVaoF",
        "outputId": "ba318c8d-f8f3-4050-b568-a7259a5d9e3b"
      },
      "source": [
        "data.Publisher.value_counts()"
      ],
      "execution_count": 5,
      "outputs": [
        {
          "output_type": "execute_result",
          "data": {
            "text/plain": [
              "Electronic Arts                 1339\n",
              "Activision                       966\n",
              "Namco Bandai Games               928\n",
              "Ubisoft                          918\n",
              "Konami Digital Entertainment     823\n",
              "                                ... \n",
              "Extreme Entertainment Group        1\n",
              "989 Sports                         1\n",
              "Xing Entertainment                 1\n",
              "TalonSoft                          1\n",
              "Interworks Unlimited, Inc.         1\n",
              "Name: Publisher, Length: 576, dtype: int64"
            ]
          },
          "metadata": {},
          "execution_count": 5
        }
      ]
    },
    {
      "cell_type": "code",
      "metadata": {
        "colab": {
          "base_uri": "https://localhost:8080/"
        },
        "id": "YkBb6X9IXkKh",
        "outputId": "1e0343c9-3e90-4d4e-ec3d-6466c82486f1"
      },
      "source": [
        "data.info()"
      ],
      "execution_count": 63,
      "outputs": [
        {
          "output_type": "stream",
          "name": "stdout",
          "text": [
            "<class 'pandas.core.frame.DataFrame'>\n",
            "RangeIndex: 16324 entries, 0 to 16323\n",
            "Data columns (total 11 columns):\n",
            " #   Column        Non-Null Count  Dtype  \n",
            "---  ------        --------------  -----  \n",
            " 0   Rank          16324 non-null  int64  \n",
            " 1   Name          16324 non-null  object \n",
            " 2   Platform      16324 non-null  object \n",
            " 3   Year          16324 non-null  int64  \n",
            " 4   Genre         16324 non-null  object \n",
            " 5   Publisher     16288 non-null  object \n",
            " 6   NA_Sales      16324 non-null  float64\n",
            " 7   EU_Sales      16324 non-null  float64\n",
            " 8   JP_Sales      16324 non-null  float64\n",
            " 9   Other_Sales   16324 non-null  float64\n",
            " 10  Global_Sales  16324 non-null  float64\n",
            "dtypes: float64(5), int64(2), object(4)\n",
            "memory usage: 1.4+ MB\n"
          ]
        }
      ]
    },
    {
      "cell_type": "code",
      "metadata": {
        "id": "bIm0ml84YMkZ"
      },
      "source": [
        "cor = data.corr()\n",
        "\n",
        "columns = cor[cor[\"Global_Sales\"]>0.5][\"Global_Sales\"]\n",
        "columns_1 = cor[cor[\"Global_Sales\"]<(-0.5)][\"Global_Sales\"]\n",
        "\n",
        "C = pd.concat([columns,columns_1],axis=1)\n",
        "columns_list = C.index\n",
        "\n",
        "\n",
        "data1 = pd.DataFrame(data,columns = columns_list)\n"
      ],
      "execution_count": 94,
      "outputs": []
    },
    {
      "cell_type": "code",
      "metadata": {
        "colab": {
          "base_uri": "https://localhost:8080/"
        },
        "id": "IwE4mfxhsniw",
        "outputId": "cfc5a256-7f66-4f34-dd4e-988a6cae23e2"
      },
      "source": [
        "columns_list"
      ],
      "execution_count": 68,
      "outputs": [
        {
          "output_type": "execute_result",
          "data": {
            "text/plain": [
              "Index(['NA_Sales', 'EU_Sales', 'JP_Sales', 'Other_Sales', 'Global_Sales'], dtype='object')"
            ]
          },
          "metadata": {},
          "execution_count": 68
        }
      ]
    },
    {
      "cell_type": "code",
      "metadata": {
        "id": "HvVPEdL7bFOA",
        "colab": {
          "base_uri": "https://localhost:8080/",
          "height": 266
        },
        "outputId": "afa7f1d3-d3da-4555-dcf0-54c47be1a9c4"
      },
      "source": [
        "cor"
      ],
      "execution_count": 65,
      "outputs": [
        {
          "output_type": "execute_result",
          "data": {
            "text/html": [
              "<div>\n",
              "<style scoped>\n",
              "    .dataframe tbody tr th:only-of-type {\n",
              "        vertical-align: middle;\n",
              "    }\n",
              "\n",
              "    .dataframe tbody tr th {\n",
              "        vertical-align: top;\n",
              "    }\n",
              "\n",
              "    .dataframe thead th {\n",
              "        text-align: right;\n",
              "    }\n",
              "</style>\n",
              "<table border=\"1\" class=\"dataframe\">\n",
              "  <thead>\n",
              "    <tr style=\"text-align: right;\">\n",
              "      <th></th>\n",
              "      <th>Rank</th>\n",
              "      <th>Year</th>\n",
              "      <th>NA_Sales</th>\n",
              "      <th>EU_Sales</th>\n",
              "      <th>JP_Sales</th>\n",
              "      <th>Other_Sales</th>\n",
              "      <th>Global_Sales</th>\n",
              "    </tr>\n",
              "  </thead>\n",
              "  <tbody>\n",
              "    <tr>\n",
              "      <th>Rank</th>\n",
              "      <td>1.000000</td>\n",
              "      <td>0.178443</td>\n",
              "      <td>-0.400330</td>\n",
              "      <td>-0.379029</td>\n",
              "      <td>-0.269141</td>\n",
              "      <td>-0.332525</td>\n",
              "      <td>-0.426884</td>\n",
              "    </tr>\n",
              "    <tr>\n",
              "      <th>Year</th>\n",
              "      <td>0.178443</td>\n",
              "      <td>1.000000</td>\n",
              "      <td>-0.091350</td>\n",
              "      <td>0.006142</td>\n",
              "      <td>-0.169320</td>\n",
              "      <td>0.041177</td>\n",
              "      <td>-0.074653</td>\n",
              "    </tr>\n",
              "    <tr>\n",
              "      <th>NA_Sales</th>\n",
              "      <td>-0.400330</td>\n",
              "      <td>-0.091350</td>\n",
              "      <td>1.000000</td>\n",
              "      <td>0.768932</td>\n",
              "      <td>0.451280</td>\n",
              "      <td>0.634503</td>\n",
              "      <td>0.941267</td>\n",
              "    </tr>\n",
              "    <tr>\n",
              "      <th>EU_Sales</th>\n",
              "      <td>-0.379029</td>\n",
              "      <td>0.006142</td>\n",
              "      <td>0.768932</td>\n",
              "      <td>1.000000</td>\n",
              "      <td>0.436408</td>\n",
              "      <td>0.726262</td>\n",
              "      <td>0.903269</td>\n",
              "    </tr>\n",
              "    <tr>\n",
              "      <th>JP_Sales</th>\n",
              "      <td>-0.269141</td>\n",
              "      <td>-0.169320</td>\n",
              "      <td>0.451280</td>\n",
              "      <td>0.436408</td>\n",
              "      <td>1.000000</td>\n",
              "      <td>0.290646</td>\n",
              "      <td>0.612790</td>\n",
              "    </tr>\n",
              "    <tr>\n",
              "      <th>Other_Sales</th>\n",
              "      <td>-0.332525</td>\n",
              "      <td>0.041177</td>\n",
              "      <td>0.634503</td>\n",
              "      <td>0.726262</td>\n",
              "      <td>0.290646</td>\n",
              "      <td>1.000000</td>\n",
              "      <td>0.747971</td>\n",
              "    </tr>\n",
              "    <tr>\n",
              "      <th>Global_Sales</th>\n",
              "      <td>-0.426884</td>\n",
              "      <td>-0.074653</td>\n",
              "      <td>0.941267</td>\n",
              "      <td>0.903269</td>\n",
              "      <td>0.612790</td>\n",
              "      <td>0.747971</td>\n",
              "      <td>1.000000</td>\n",
              "    </tr>\n",
              "  </tbody>\n",
              "</table>\n",
              "</div>"
            ],
            "text/plain": [
              "                  Rank      Year  NA_Sales  ...  JP_Sales  Other_Sales  Global_Sales\n",
              "Rank          1.000000  0.178443 -0.400330  ... -0.269141    -0.332525     -0.426884\n",
              "Year          0.178443  1.000000 -0.091350  ... -0.169320     0.041177     -0.074653\n",
              "NA_Sales     -0.400330 -0.091350  1.000000  ...  0.451280     0.634503      0.941267\n",
              "EU_Sales     -0.379029  0.006142  0.768932  ...  0.436408     0.726262      0.903269\n",
              "JP_Sales     -0.269141 -0.169320  0.451280  ...  1.000000     0.290646      0.612790\n",
              "Other_Sales  -0.332525  0.041177  0.634503  ...  0.290646     1.000000      0.747971\n",
              "Global_Sales -0.426884 -0.074653  0.941267  ...  0.612790     0.747971      1.000000\n",
              "\n",
              "[7 rows x 7 columns]"
            ]
          },
          "metadata": {},
          "execution_count": 65
        }
      ]
    },
    {
      "cell_type": "code",
      "metadata": {
        "colab": {
          "base_uri": "https://localhost:8080/",
          "height": 204
        },
        "id": "-RgSB2SNYtWV",
        "outputId": "cedccb50-087e-4103-d81d-e8cbb6ba7985"
      },
      "source": [
        "data1.head()"
      ],
      "execution_count": 69,
      "outputs": [
        {
          "output_type": "execute_result",
          "data": {
            "text/html": [
              "<div>\n",
              "<style scoped>\n",
              "    .dataframe tbody tr th:only-of-type {\n",
              "        vertical-align: middle;\n",
              "    }\n",
              "\n",
              "    .dataframe tbody tr th {\n",
              "        vertical-align: top;\n",
              "    }\n",
              "\n",
              "    .dataframe thead th {\n",
              "        text-align: right;\n",
              "    }\n",
              "</style>\n",
              "<table border=\"1\" class=\"dataframe\">\n",
              "  <thead>\n",
              "    <tr style=\"text-align: right;\">\n",
              "      <th></th>\n",
              "      <th>NA_Sales</th>\n",
              "      <th>EU_Sales</th>\n",
              "      <th>JP_Sales</th>\n",
              "      <th>Other_Sales</th>\n",
              "      <th>Global_Sales</th>\n",
              "    </tr>\n",
              "  </thead>\n",
              "  <tbody>\n",
              "    <tr>\n",
              "      <th>0</th>\n",
              "      <td>4.00</td>\n",
              "      <td>0.26</td>\n",
              "      <td>0.0</td>\n",
              "      <td>0.05</td>\n",
              "      <td>4.31</td>\n",
              "    </tr>\n",
              "    <tr>\n",
              "      <th>1</th>\n",
              "      <td>2.56</td>\n",
              "      <td>0.17</td>\n",
              "      <td>0.0</td>\n",
              "      <td>0.03</td>\n",
              "      <td>2.76</td>\n",
              "    </tr>\n",
              "    <tr>\n",
              "      <th>2</th>\n",
              "      <td>1.07</td>\n",
              "      <td>0.07</td>\n",
              "      <td>0.0</td>\n",
              "      <td>0.01</td>\n",
              "      <td>1.15</td>\n",
              "    </tr>\n",
              "    <tr>\n",
              "      <th>3</th>\n",
              "      <td>0.99</td>\n",
              "      <td>0.05</td>\n",
              "      <td>0.0</td>\n",
              "      <td>0.01</td>\n",
              "      <td>1.05</td>\n",
              "    </tr>\n",
              "    <tr>\n",
              "      <th>4</th>\n",
              "      <td>0.72</td>\n",
              "      <td>0.04</td>\n",
              "      <td>0.0</td>\n",
              "      <td>0.01</td>\n",
              "      <td>0.77</td>\n",
              "    </tr>\n",
              "  </tbody>\n",
              "</table>\n",
              "</div>"
            ],
            "text/plain": [
              "   NA_Sales  EU_Sales  JP_Sales  Other_Sales  Global_Sales\n",
              "0      4.00      0.26       0.0         0.05          4.31\n",
              "1      2.56      0.17       0.0         0.03          2.76\n",
              "2      1.07      0.07       0.0         0.01          1.15\n",
              "3      0.99      0.05       0.0         0.01          1.05\n",
              "4      0.72      0.04       0.0         0.01          0.77"
            ]
          },
          "metadata": {},
          "execution_count": 69
        }
      ]
    },
    {
      "cell_type": "code",
      "metadata": {
        "id": "8ULg-1g_ZJiO"
      },
      "source": [
        "\n",
        "x = pd.concat([data1.iloc[:,[0,1,2,3]],data.iloc[:,[0]]],axis = 1)\n"
      ],
      "execution_count": 95,
      "outputs": []
    },
    {
      "cell_type": "code",
      "metadata": {
        "id": "StK0JLrmTkRf"
      },
      "source": [
        "y = data1.iloc[:,[4]]"
      ],
      "execution_count": 96,
      "outputs": []
    },
    {
      "cell_type": "code",
      "metadata": {
        "id": "f5tEATTzV2l7"
      },
      "source": [
        "data2 = data.copy()\n",
        "\n",
        "data2['Publisher'].fillna(data2['Publisher'].mode()[0],inplace=True)\n"
      ],
      "execution_count": 72,
      "outputs": []
    },
    {
      "cell_type": "code",
      "metadata": {
        "colab": {
          "base_uri": "https://localhost:8080/"
        },
        "id": "u8c7YBF2b49l",
        "outputId": "33c79cc7-17d7-4225-815c-4543193909b8"
      },
      "source": [
        "#data2 = pd.DataFrame(data2)\n",
        "data2.isnull().sum()"
      ],
      "execution_count": 73,
      "outputs": [
        {
          "output_type": "execute_result",
          "data": {
            "text/plain": [
              "Rank            0\n",
              "Name            0\n",
              "Platform        0\n",
              "Year            0\n",
              "Genre           0\n",
              "Publisher       0\n",
              "NA_Sales        0\n",
              "EU_Sales        0\n",
              "JP_Sales        0\n",
              "Other_Sales     0\n",
              "Global_Sales    0\n",
              "dtype: int64"
            ]
          },
          "metadata": {},
          "execution_count": 73
        }
      ]
    },
    {
      "cell_type": "code",
      "metadata": {
        "id": "xs6EVOrymyYS"
      },
      "source": [
        "from sklearn.model_selection import train_test_split\n",
        "\n",
        "x_train,x_test,y_train,y_test = train_test_split(x,y,test_size = 0.2, random_state = 0)"
      ],
      "execution_count": 97,
      "outputs": []
    },
    {
      "cell_type": "code",
      "metadata": {
        "id": "oXnWVYVTpFCg"
      },
      "source": [
        "from sklearn.preprocessing import StandardScaler\n",
        "SC = StandardScaler()\n",
        "\n",
        "x_train = SC.fit_transform(x_train)\n",
        "x_test = SC.transform(x_test)\n"
      ],
      "execution_count": 98,
      "outputs": []
    },
    {
      "cell_type": "code",
      "metadata": {
        "id": "O_0dbIRFtWx3"
      },
      "source": [
        "from sklearn.linear_model import LinearRegression\n",
        "model = LinearRegression()\n",
        "model.fit(x_train, y_train)\n",
        "predictions = model.predict(x_test)"
      ],
      "execution_count": 91,
      "outputs": []
    },
    {
      "cell_type": "code",
      "metadata": {
        "colab": {
          "base_uri": "https://localhost:8080/",
          "height": 254
        },
        "id": "cpUqaGlLuwT-",
        "outputId": "72aeed82-358e-4e87-bc23-506ee0e3a301"
      },
      "source": [
        "#importing ML models from scikit-learn\n",
        "from sklearn.linear_model import LinearRegression\n",
        "from sklearn.tree import DecisionTreeRegressor\n",
        "from sklearn.ensemble import RandomForestRegressor\n",
        "from sklearn.svm import SVR\n",
        "from sklearn.neighbors import KNeighborsRegressor\n",
        "from xgboost import XGBRegressor\n",
        "from sklearn.metrics import mean_absolute_error,mean_squared_error,r2_score\n",
        "\n",
        "#to save time all models can be applied once using for loop\n",
        "regressors = {\n",
        "    'Linear Regression' : LinearRegression(),\n",
        "    'Decision Tree' : DecisionTreeRegressor(),\n",
        "    'Random Forest' : RandomForestRegressor(),\n",
        "    'Support Vector Machines' : SVR(gamma=1),\n",
        "    'K-nearest Neighbors' : KNeighborsRegressor(n_neighbors=1),\n",
        "    'XGBoost' : XGBRegressor()\n",
        "}\n",
        "results=pd.DataFrame(columns=['MAE','MSE','R2-score'])\n",
        "for method,func in regressors.items():\n",
        "    model = func.fit(x_train,y_train)\n",
        "    pred = model.predict(x_test)\n",
        "    results.loc[method]= [np.round(mean_absolute_error(y_test,pred),3),\n",
        "                          np.round(mean_squared_error(y_test,pred),3),\n",
        "                          np.round(r2_score(y_test,pred),3)\n",
        "                         ]\n",
        "    \n",
        "results.sort_values('R2-score',ascending=False).style.background_gradient(cmap='Greens',subset=['R2-score'])"
      ],
      "execution_count": 99,
      "outputs": [
        {
          "output_type": "stream",
          "name": "stderr",
          "text": [
            "/usr/local/lib/python3.7/dist-packages/ipykernel_launcher.py:21: DataConversionWarning: A column-vector y was passed when a 1d array was expected. Please change the shape of y to (n_samples,), for example using ravel().\n",
            "/usr/local/lib/python3.7/dist-packages/sklearn/utils/validation.py:760: DataConversionWarning: A column-vector y was passed when a 1d array was expected. Please change the shape of y to (n_samples, ), for example using ravel().\n",
            "  y = column_or_1d(y, warn=True)\n"
          ]
        },
        {
          "output_type": "stream",
          "name": "stdout",
          "text": [
            "[04:29:54] WARNING: /workspace/src/objective/regression_obj.cu:152: reg:linear is now deprecated in favor of reg:squarederror.\n"
          ]
        },
        {
          "output_type": "execute_result",
          "data": {
            "text/html": [
              "<style  type=\"text/css\" >\n",
              "#T_e55195c4_20dd_11ec_b9d2_0242ac1c0002row0_col2{\n",
              "            background-color:  #00441b;\n",
              "            color:  #f1f1f1;\n",
              "        }#T_e55195c4_20dd_11ec_b9d2_0242ac1c0002row1_col2{\n",
              "            background-color:  #00451c;\n",
              "            color:  #f1f1f1;\n",
              "        }#T_e55195c4_20dd_11ec_b9d2_0242ac1c0002row2_col2{\n",
              "            background-color:  #00481d;\n",
              "            color:  #f1f1f1;\n",
              "        }#T_e55195c4_20dd_11ec_b9d2_0242ac1c0002row3_col2{\n",
              "            background-color:  #004d1f;\n",
              "            color:  #f1f1f1;\n",
              "        }#T_e55195c4_20dd_11ec_b9d2_0242ac1c0002row4_col2{\n",
              "            background-color:  #005b25;\n",
              "            color:  #f1f1f1;\n",
              "        }#T_e55195c4_20dd_11ec_b9d2_0242ac1c0002row5_col2{\n",
              "            background-color:  #f7fcf5;\n",
              "            color:  #000000;\n",
              "        }</style><table id=\"T_e55195c4_20dd_11ec_b9d2_0242ac1c0002\" ><thead>    <tr>        <th class=\"blank level0\" ></th>        <th class=\"col_heading level0 col0\" >MAE</th>        <th class=\"col_heading level0 col1\" >MSE</th>        <th class=\"col_heading level0 col2\" >R2-score</th>    </tr></thead><tbody>\n",
              "                <tr>\n",
              "                        <th id=\"T_e55195c4_20dd_11ec_b9d2_0242ac1c0002level0_row0\" class=\"row_heading level0 row0\" >Linear Regression</th>\n",
              "                        <td id=\"T_e55195c4_20dd_11ec_b9d2_0242ac1c0002row0_col0\" class=\"data row0 col0\" >0.003000</td>\n",
              "                        <td id=\"T_e55195c4_20dd_11ec_b9d2_0242ac1c0002row0_col1\" class=\"data row0 col1\" >0.000000</td>\n",
              "                        <td id=\"T_e55195c4_20dd_11ec_b9d2_0242ac1c0002row0_col2\" class=\"data row0 col2\" >1.000000</td>\n",
              "            </tr>\n",
              "            <tr>\n",
              "                        <th id=\"T_e55195c4_20dd_11ec_b9d2_0242ac1c0002level0_row1\" class=\"row_heading level0 row1\" >Random Forest</th>\n",
              "                        <td id=\"T_e55195c4_20dd_11ec_b9d2_0242ac1c0002row1_col0\" class=\"data row1 col0\" >0.003000</td>\n",
              "                        <td id=\"T_e55195c4_20dd_11ec_b9d2_0242ac1c0002row1_col1\" class=\"data row1 col1\" >0.009000</td>\n",
              "                        <td id=\"T_e55195c4_20dd_11ec_b9d2_0242ac1c0002row1_col2\" class=\"data row1 col2\" >0.997000</td>\n",
              "            </tr>\n",
              "            <tr>\n",
              "                        <th id=\"T_e55195c4_20dd_11ec_b9d2_0242ac1c0002level0_row2\" class=\"row_heading level0 row2\" >XGBoost</th>\n",
              "                        <td id=\"T_e55195c4_20dd_11ec_b9d2_0242ac1c0002row2_col0\" class=\"data row2 col0\" >0.013000</td>\n",
              "                        <td id=\"T_e55195c4_20dd_11ec_b9d2_0242ac1c0002row2_col1\" class=\"data row2 col1\" >0.027000</td>\n",
              "                        <td id=\"T_e55195c4_20dd_11ec_b9d2_0242ac1c0002row2_col2\" class=\"data row2 col2\" >0.992000</td>\n",
              "            </tr>\n",
              "            <tr>\n",
              "                        <th id=\"T_e55195c4_20dd_11ec_b9d2_0242ac1c0002level0_row3\" class=\"row_heading level0 row3\" >Decision Tree</th>\n",
              "                        <td id=\"T_e55195c4_20dd_11ec_b9d2_0242ac1c0002row3_col0\" class=\"data row3 col0\" >0.009000</td>\n",
              "                        <td id=\"T_e55195c4_20dd_11ec_b9d2_0242ac1c0002row3_col1\" class=\"data row3 col1\" >0.052000</td>\n",
              "                        <td id=\"T_e55195c4_20dd_11ec_b9d2_0242ac1c0002row3_col2\" class=\"data row3 col2\" >0.984000</td>\n",
              "            </tr>\n",
              "            <tr>\n",
              "                        <th id=\"T_e55195c4_20dd_11ec_b9d2_0242ac1c0002level0_row4\" class=\"row_heading level0 row4\" >K-nearest Neighbors</th>\n",
              "                        <td id=\"T_e55195c4_20dd_11ec_b9d2_0242ac1c0002row4_col0\" class=\"data row4 col0\" >0.037000</td>\n",
              "                        <td id=\"T_e55195c4_20dd_11ec_b9d2_0242ac1c0002row4_col1\" class=\"data row4 col1\" >0.121000</td>\n",
              "                        <td id=\"T_e55195c4_20dd_11ec_b9d2_0242ac1c0002row4_col2\" class=\"data row4 col2\" >0.963000</td>\n",
              "            </tr>\n",
              "            <tr>\n",
              "                        <th id=\"T_e55195c4_20dd_11ec_b9d2_0242ac1c0002level0_row5\" class=\"row_heading level0 row5\" >Support Vector Machines</th>\n",
              "                        <td id=\"T_e55195c4_20dd_11ec_b9d2_0242ac1c0002row5_col0\" class=\"data row5 col0\" >0.144000</td>\n",
              "                        <td id=\"T_e55195c4_20dd_11ec_b9d2_0242ac1c0002row5_col1\" class=\"data row5 col1\" >1.705000</td>\n",
              "                        <td id=\"T_e55195c4_20dd_11ec_b9d2_0242ac1c0002row5_col2\" class=\"data row5 col2\" >0.478000</td>\n",
              "            </tr>\n",
              "    </tbody></table>"
            ],
            "text/plain": [
              "<pandas.io.formats.style.Styler at 0x7f79578b1850>"
            ]
          },
          "metadata": {},
          "execution_count": 99
        }
      ]
    }
  ]
}